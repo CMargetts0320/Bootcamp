{
 "cells": [
  {
   "cell_type": "code",
   "execution_count": 29,
   "metadata": {},
   "outputs": [
    {
     "name": "stdout",
     "output_type": "stream",
     "text": [
      "Your current age is 25\n",
      "In 5 years you will be 30\n"
     ]
    }
   ],
   "source": [
    "#Challenge 4\n",
    "current_age = 25\n",
    "print(\"Your current age is {}\".format(current_age))\n",
    "age_in_5years = current_age + 5\n",
    "print(\"In 5 years you will be {}\".format(age_in_5years))"
   ]
  },
  {
   "cell_type": "code",
   "execution_count": 30,
   "metadata": {},
   "outputs": [
    {
     "name": "stdout",
     "output_type": "stream",
     "text": [
      "Your current age is 25\n",
      "In 5 years you will be 30\n"
     ]
    }
   ],
   "source": [
    "#Challenge 4 (with input)\n",
    "current_age = int(input(\"Type your current age in years\"))\n",
    "print(\"Your current age is {}\".format(current_age))\n",
    "age_in_5years = current_age + 5\n",
    "print(\"In 5 years you will be {}\".format(age_in_5years))"
   ]
  },
  {
   "cell_type": "code",
   "execution_count": 17,
   "metadata": {},
   "outputs": [
    {
     "name": "stdout",
     "output_type": "stream",
     "text": [
      "Hello, your name is Caitlin and you are 25 years old\n"
     ]
    }
   ],
   "source": [
    "#Challenge 1\n",
    "name = \"Caitlin\"\n",
    "age = 25\n",
    "print(\"Hello, your name is {} and you are {} years old\".format(name, age))"
   ]
  },
  {
   "cell_type": "code",
   "execution_count": null,
   "metadata": {},
   "outputs": [
    {
     "name": "stdout",
     "output_type": "stream",
     "text": [
      "Hello! Your name is Caitlin and you are 25 years old\n"
     ]
    }
   ],
   "source": [
    "#Challenge 1 (with input)\n",
    "name = input(\"Type in your name\")\n",
    "age = int(input(\"Type in your age\"))\n",
    "print(\"Hello! Your name is {} and you are {} years old\".format(name, age))"
   ]
  },
  {
   "cell_type": "code",
   "execution_count": 19,
   "metadata": {},
   "outputs": [
    {
     "name": "stdout",
     "output_type": "stream",
     "text": [
      "Good morning, Birth year: 2000, Height 1.71m, Student status: True\n"
     ]
    }
   ],
   "source": [
    "#Challenge 2\n",
    "greeting = \"Good morning\"\n",
    "year_born = int(input(\"Type in your birth year\"))\n",
    "height_in_meters = float(input(\"Type in your height in meters\"))\n",
    "is_student = bool(input(\"Are you a student? y/n\"))\n",
    "print(\"{}, Birth year: {}, Height {}m, Student status: {}\".format(greeting, year_born, height_in_meters, is_student))"
   ]
  },
  {
   "cell_type": "code",
   "execution_count": 21,
   "metadata": {},
   "outputs": [
    {
     "name": "stdout",
     "output_type": "stream",
     "text": [
      "You purchased 16 apples at $0.69 per apple, for a total cost of $11.04\n"
     ]
    }
   ],
   "source": [
    "#Challenge 3\n",
    "price_apple = 0.69\n",
    "num_apples = int(input(\"How many apples did you buy?\"))\n",
    "total_cost = price_apple * num_apples\n",
    "print(\"You purchased {} apples at ${} per apple, for a total cost of ${}\".format(num_apples, price_apple, total_cost))"
   ]
  },
  {
   "cell_type": "code",
   "execution_count": 28,
   "metadata": {},
   "outputs": [
    {
     "name": "stdout",
     "output_type": "stream",
     "text": [
      "You are 25 years old\n",
      "<class 'str'>\n",
      "You are 25 years old\n",
      "<class 'int'>\n"
     ]
    }
   ],
   "source": [
    "#Notes\n",
    "age = input(\"How old are you?\")\n",
    "print(\"You are {} years old\".format(age))\n",
    "print(type (age)) #See the variable age, when in quotation marks, is string\n",
    "\n",
    "age = int(input(\"How old are you?\"))\n",
    "print(\"You are {} years old\".format(age))\n",
    "print(type (age)) #See the variable age is now an integer\n"
   ]
  },
  {
   "cell_type": "code",
   "execution_count": 34,
   "metadata": {},
   "outputs": [
    {
     "name": "stdout",
     "output_type": "stream",
     "text": [
      "x = 20\n",
      "y = 10\n",
      "(20, 10)\n"
     ]
    }
   ],
   "source": [
    "#Challenge 5\n",
    "x, y = 10, 20\n",
    "x, y = y, x #x has become y, y has become x. The order matters\n",
    "print ('x =', x) #the new x is y\n",
    "print ('y =', y) #the new y is x\n",
    "\n",
    "#Now to do it as a \"temporary variable\" and not actually affect the values of x and y\n",
    "t = x, y\n",
    "print(t)"
   ]
  },
  {
   "cell_type": "code",
   "execution_count": null,
   "metadata": {},
   "outputs": [],
   "source": []
  }
 ],
 "metadata": {
  "kernelspec": {
   "display_name": "bootcamp",
   "language": "python",
   "name": "python3"
  },
  "language_info": {
   "codemirror_mode": {
    "name": "ipython",
    "version": 3
   },
   "file_extension": ".py",
   "mimetype": "text/x-python",
   "name": "python",
   "nbconvert_exporter": "python",
   "pygments_lexer": "ipython3",
   "version": "3.10.16"
  }
 },
 "nbformat": 4,
 "nbformat_minor": 2
}
