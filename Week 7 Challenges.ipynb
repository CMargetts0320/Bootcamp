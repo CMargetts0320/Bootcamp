{
 "cells": [
  {
   "cell_type": "code",
   "execution_count": 12,
   "id": "0f6b8df2",
   "metadata": {},
   "outputs": [
    {
     "name": "stdout",
     "output_type": "stream",
     "text": [
      "['a', ' b', ' c', ' ']\n",
      "a\n",
      "b\n",
      "c\n",
      "\n"
     ]
    }
   ],
   "source": [
    "# challenge 1\n",
    "\n",
    "fav_fruits = input(\"List your 5 favourite fruits, separated by commas:\")\n",
    "fav_fruits = fav_fruits.split(\",\")         # remove spaces\n",
    "print(fav_fruits)\n",
    "    # splits string input at the commas\n",
    "\n",
    "for fruits in fav_fruits:      # 'fruits' is just elements in the list\n",
    "    print(fruits.strip())\n"
   ]
  },
  {
   "cell_type": "code",
   "execution_count": null,
   "id": "eec82fbf",
   "metadata": {},
   "outputs": [],
   "source": [
    "# Challenge 3\n",
    "\n",
    "# {} is dictionary, where [] is list\n",
    "# student_grades needs to be indented under while loop\n",
    "# append (in while loop) name and grade\n",
    "    # student_info is dictionary to define ditionary\n",
    "    # students.append(student_info) to add into dictionary"
   ]
  },
  {
   "cell_type": "code",
   "execution_count": null,
   "id": "d437ad36",
   "metadata": {},
   "outputs": [],
   "source": [
    "# challenge 5 - \n",
    "\n",
    "#empty list of students\n",
    "students = []\n",
    "\n",
    "\n",
    "for student in students     # "
   ]
  }
 ],
 "metadata": {
  "kernelspec": {
   "display_name": "bootcamp",
   "language": "python",
   "name": "python3"
  },
  "language_info": {
   "codemirror_mode": {
    "name": "ipython",
    "version": 3
   },
   "file_extension": ".py",
   "mimetype": "text/x-python",
   "name": "python",
   "nbconvert_exporter": "python",
   "pygments_lexer": "ipython3",
   "version": "3.10.16"
  }
 },
 "nbformat": 4,
 "nbformat_minor": 5
}
