{
 "cells": [
  {
   "cell_type": "code",
   "execution_count": null,
   "id": "1c1019e2",
   "metadata": {},
   "outputs": [
    {
     "name": "stdout",
     "output_type": "stream",
     "text": [
      "         Date  Temperature  Humidity\n",
      "0  2023-10-01           22        65\n",
      "1  2023-10-02           24        70\n",
      "2  2023-10-03           20        68\n",
      "3  2023-10-04           19        72\n",
      "4  2023-10-05           21        69\n",
      "\n",
      "Mean Temperature: 23.081967213114755\n",
      "Max Temperature: 27\n",
      "Min Temperature: 19\n",
      "Standard Deviation: 2.4718082582542222\n"
     ]
    }
   ],
   "source": [
    "# install necessary libraries\n",
    "import pandas as pd\n",
    "import numpy as np\n",
    "import matplotlib.pyplot as plt\n",
    "\n",
    "# import the data\n",
    "df = pd.read_csv('data.csv')\n",
    "print(df.head())        # display the first 5 rows of the dataframe (as a check)\n",
    "\n",
    "\n",
    "# analysis\n",
    "mean_temp = df['Temperature'].mean()    # calculate the mean temperature (column 'Temperature')\n",
    "max_temp = df['Temperature'].max()      # calculate the maximum temperature\n",
    "min_temp = df['Temperature'].min()      # calculate the minimum temperature\n",
    "sd = df['Temperature'].std()            # calculate the standard deviation of the temperature\n",
    "print(f\"\\nMean Temperature: {mean_temp}\\nMax Temperature: {max_temp}\\nMin Temperature: {min_temp}\\nStandard Deviation: {sd}\")\n",
    "\n",
    "# visualisation\n",
    "plt.plot"
   ]
  },
  {
   "cell_type": "code",
   "execution_count": null,
   "id": "6279fd3b",
   "metadata": {},
   "outputs": [],
   "source": []
  }
 ],
 "metadata": {
  "kernelspec": {
   "display_name": "bootcamp",
   "language": "python",
   "name": "python3"
  },
  "language_info": {
   "codemirror_mode": {
    "name": "ipython",
    "version": 3
   },
   "file_extension": ".py",
   "mimetype": "text/x-python",
   "name": "python",
   "nbconvert_exporter": "python",
   "pygments_lexer": "ipython3",
   "version": "3.10.16"
  }
 },
 "nbformat": 4,
 "nbformat_minor": 5
}
