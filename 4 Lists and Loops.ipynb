{
 "cells": [
  {
   "cell_type": "markdown",
   "metadata": {},
   "source": [
    "**Lists and Loops**"
   ]
  },
  {
   "cell_type": "markdown",
   "metadata": {},
   "source": [
    "*Lists*"
   ]
  },
  {
   "cell_type": "markdown",
   "metadata": {},
   "source": [
    "The first element in a list is \"Index 0\". Each element inside a list is an \"item\"."
   ]
  },
  {
   "cell_type": "code",
   "execution_count": 14,
   "metadata": {},
   "outputs": [
    {
     "name": "stdout",
     "output_type": "stream",
     "text": [
      "[5, 10, 15.2, 20]\n",
      "10\n",
      "15.2\n"
     ]
    }
   ],
   "source": [
    "# declaring a list of numbers\n",
    "nums = [5, 10, 15.2, 20]\n",
    "print(nums)\n",
    "\n",
    "\n",
    "# accessing elements within a list\n",
    "print(nums[1])      # will output the value at index 1 = 10\n",
    "num = nums[2]       # saves index value 2 into num\n",
    "print(num)          # prints value assigned to num"
   ]
  },
  {
   "cell_type": "code",
   "execution_count": null,
   "metadata": {},
   "outputs": [
    {
     "name": "stdout",
     "output_type": "stream",
     "text": [
      "[4.3, 'word', True]\n"
     ]
    }
   ],
   "source": [
    "# declaring a list of mixed data types\n",
    "num = 4.3\n",
    "data = [num, \"word\", True] # the power of data collection\n",
    "print (data)"
   ]
  },
  {
   "cell_type": "code",
   "execution_count": 15,
   "metadata": {},
   "outputs": [
    {
     "name": "stdout",
     "output_type": "stream",
     "text": [
      "[5, 'book', [34, 'hello'], True]\n",
      "[34, 'hello']\n",
      "34\n",
      "hello\n",
      "b\n"
     ]
    }
   ],
   "source": [
    "# understanding lists within lists\n",
    "data = [5, \"book\", [34, \"hello\"], True] # lists can hold any type\n",
    "print(data)\n",
    "print(data[2])\n",
    "\n",
    "\n",
    "# using double brakcet notation to access lists within lists\n",
    "print(data[2][0])       # will output 34\n",
    "inner_list = data[2]    # inner list will equal [34, 'hello']\n",
    "print(inner_list[1])    # will output 'hello'\n",
    "\n",
    "# strings can be indexed further\n",
    "print(data[1][0])       # will output 'b' from \"book\""
   ]
  },
  {
   "cell_type": "code",
   "execution_count": 16,
   "metadata": {},
   "outputs": [
    {
     "name": "stdout",
     "output_type": "stream",
     "text": [
      "[5, 10, 15, 20]\n",
      "[100, 10, 15, 20]\n"
     ]
    }
   ],
   "source": [
    "# changing values in a list through index\n",
    "data = [5, 10, 15, 20]\n",
    "print(data)\n",
    "data[0] = 100       # change the value at index 0 (from 5 to 100)\n",
    "print(data)"
   ]
  },
  {
   "cell_type": "code",
   "execution_count": 19,
   "metadata": {},
   "outputs": [
    {
     "name": "stdout",
     "output_type": "stream",
     "text": [
      "4394813824\n"
     ]
    }
   ],
   "source": [
    "# check storage location in memory for a variable\n",
    "a = [5, 10]\n",
    "print(id(a))        # outputs large number that represents location in memory"
   ]
  },
  {
   "cell_type": "code",
   "execution_count": 20,
   "metadata": {},
   "outputs": [
    {
     "name": "stdout",
     "output_type": "stream",
     "text": [
      "a:[5, 10] \t b:[5, 10]\n",
      "Location a[0]:4303789968 \t Location b[0]:4303789968\n",
      "a:[20, 10] \t b:[[20, 10]]\n"
     ]
    }
   ],
   "source": [
    "# understanding how lists are stored\n",
    "a = [5, 10]\n",
    "b = a\n",
    "\n",
    "print(f\"a:{a} \\t b:{b}\")     # \\t inserts a tab\n",
    "print(f\"Location a[0]:{id(a[0])} \\t Location b[0]:{id(b[0])}\")\n",
    "\n",
    "a[0] = 20       # redeclaring the value of a[0] also changes b[0]\n",
    "print(f\"a:{a} \\t b:[{b}]\")"
   ]
  },
  {
   "cell_type": "code",
   "execution_count": 28,
   "metadata": {},
   "outputs": [
    {
     "name": "stdout",
     "output_type": "stream",
     "text": [
      "data: [50, 10, 15, 20] \t data_copy: [5, 10, 15, 20]\n",
      "data:[50, 10, 15, 20] \t data_copy:[5, 10, 15, 20]\n"
     ]
    }
   ],
   "source": [
    "# using [:] to cop a list\n",
    "data = [5, 10, 15, 20]\n",
    "data_copy = data[:]     # a single colon copies the list\n",
    "data[0] = 50\n",
    "print(f\"data: {data} \\t data_copy: {data_copy}\")\n",
    "\n",
    "# if i remove the space between data: and {}...?\n",
    "print(f\"data:{data} \\t data_copy:{data_copy}\")"
   ]
  },
  {
   "cell_type": "markdown",
   "metadata": {},
   "source": [
    "*Exercises*"
   ]
  },
  {
   "cell_type": "code",
   "execution_count": null,
   "metadata": {},
   "outputs": [],
   "source": [
    "# define a list of strings"
   ]
  },
  {
   "cell_type": "markdown",
   "metadata": {},
   "source": [
    "*For Loops*"
   ]
  },
  {
   "cell_type": "code",
   "execution_count": null,
   "metadata": {},
   "outputs": [],
   "source": []
  },
  {
   "cell_type": "markdown",
   "metadata": {},
   "source": [
    "*While Loops*"
   ]
  },
  {
   "cell_type": "code",
   "execution_count": null,
   "metadata": {},
   "outputs": [],
   "source": []
  },
  {
   "cell_type": "markdown",
   "metadata": {},
   "source": [
    "*Working with Lists*"
   ]
  },
  {
   "cell_type": "code",
   "execution_count": null,
   "metadata": {},
   "outputs": [],
   "source": []
  }
 ],
 "metadata": {
  "kernelspec": {
   "display_name": "bootcamp",
   "language": "python",
   "name": "python3"
  },
  "language_info": {
   "codemirror_mode": {
    "name": "ipython",
    "version": 3
   },
   "file_extension": ".py",
   "mimetype": "text/x-python",
   "name": "python",
   "nbconvert_exporter": "python",
   "pygments_lexer": "ipython3",
   "version": "3.10.16"
  }
 },
 "nbformat": 4,
 "nbformat_minor": 2
}
