{
 "cells": [
  {
   "cell_type": "markdown",
   "metadata": {},
   "source": [
    "*Challenge 1*"
   ]
  },
  {
   "cell_type": "code",
   "execution_count": null,
   "metadata": {},
   "outputs": [],
   "source": []
  },
  {
   "cell_type": "markdown",
   "metadata": {},
   "source": [
    "*Challenge 2*"
   ]
  },
  {
   "cell_type": "code",
   "execution_count": 16,
   "metadata": {},
   "outputs": [
    {
     "name": "stdout",
     "output_type": "stream",
     "text": [
      "Invalid input, please input a number\n"
     ]
    }
   ],
   "source": [
    "# function with a return statement\n",
    "\n",
    "try:\n",
    "    def add_numbers ():\n",
    "        a = float(input(\"Type a whole number\"))\n",
    "        b = float(input(\"Type another whole number\"))\n",
    "        print(f\"{a} + {b} = {a+b}\")\n",
    "    add_numbers()\n",
    "\n",
    "except:\n",
    "    print(\"Invalid input, please input a number\")"
   ]
  },
  {
   "cell_type": "code",
   "execution_count": null,
   "metadata": {},
   "outputs": [],
   "source": [
    "# function with a return statement\n",
    "\n",
    "\n",
    "def add_numbers ():     #define function outside of try & except statement\n",
    "    a = float(input(\"Type a whole number\"))\n",
    "    b = float(input(\"Type another whole number\"))\n",
    "    print(f\"{a} + {b} = {a+b}\")\n",
    "\n",
    "try:        # put try and except st\n",
    "    add_numbers()\n",
    "\n",
    "except:\n",
    "    print(\"Invalid input, please input a number\")"
   ]
  },
  {
   "cell_type": "markdown",
   "metadata": {},
   "source": [
    "*Challenge 3*"
   ]
  },
  {
   "cell_type": "code",
   "execution_count": null,
   "metadata": {},
   "outputs": [
    {
     "name": "stdout",
     "output_type": "stream",
     "text": [
      "HelloJohn\n"
     ]
    }
   ],
   "source": [
    "def greet_with_default (name, greeting=\"Hello \"):\n",
    "    greeting = \"Hello\"\n",
    "    name = str(input(\"What is your name?\"))\n",
    "    print(f\"{greeting}{name}\")\n",
    "\n",
    "greet_with_default(\"John\",)"
   ]
  },
  {
   "cell_type": "markdown",
   "metadata": {},
   "source": [
    "*Challenge 4*"
   ]
  },
  {
   "cell_type": "markdown",
   "metadata": {},
   "source": [
    "Make a list outside of the function, then define the function taking in the list. <br>\n",
    "\n",
    "Numbers = (give a bunch of numbers) <br>\n",
    "then feed this into the function <br>"
   ]
  },
  {
   "cell_type": "code",
   "execution_count": null,
   "metadata": {},
   "outputs": [],
   "source": []
  },
  {
   "cell_type": "markdown",
   "metadata": {},
   "source": [
    "*Challenge 5* <br>\n",
    "\n",
    "There is a recursion limit - the number of times a code can call back on itself (this is particularly for recursive functions that are branchking, essentially expontentially increasing and taking up all the memory) <br>\n",
    "\n"
   ]
  },
  {
   "cell_type": "code",
   "execution_count": null,
   "metadata": {},
   "outputs": [],
   "source": [
    "#recursive function\n",
    "\n",
    "def factorial"
   ]
  }
 ],
 "metadata": {
  "kernelspec": {
   "display_name": "bootcamp",
   "language": "python",
   "name": "python3"
  },
  "language_info": {
   "codemirror_mode": {
    "name": "ipython",
    "version": 3
   },
   "file_extension": ".py",
   "mimetype": "text/x-python",
   "name": "python",
   "nbconvert_exporter": "python",
   "pygments_lexer": "ipython3",
   "version": "3.10.16"
  }
 },
 "nbformat": 4,
 "nbformat_minor": 2
}
