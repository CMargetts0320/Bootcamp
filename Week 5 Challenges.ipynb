{
 "cells": [
  {
   "cell_type": "code",
   "execution_count": null,
   "metadata": {},
   "outputs": [
    {
     "name": "stdout",
     "output_type": "stream",
     "text": [
      "{-3}\n"
     ]
    }
   ],
   "source": [
    "#Challenge 3\n",
    "\n",
    "try:\n",
    "    n = int(input(\"Input a positive, whole number\"))\n",
    "    factorial = list(1, n+1)\n",
    "    print({integer})\n",
    "\n",
    "except:\n",
    "        print(\"Invalid input, please type a positive, whole number\")"
   ]
  },
  {
   "cell_type": "code",
   "execution_count": null,
   "metadata": {},
   "outputs": [
    {
     "name": "stdout",
     "output_type": "stream",
     "text": [
      "The factorial of 5 is 120\n"
     ]
    }
   ],
   "source": [
    "#Challenge 3\n",
    "\n",
    "try:\n",
    "    n = abs(int(input(\"Input a whole number\"))) #abs is absolute, so does not matter if negative integer is input\n",
    "\n",
    "    factorial = 1 #running total of the factorial calculation, will be multiplied by i\n",
    "    i = 1 #counter starts at 1, and will increase by 1 each loop\n",
    "\n",
    "#while loops run until the statement is no longer true\n",
    "\n",
    "    while i <= n: #while n is greater than or equal to the counter \n",
    "            factorial *= i #multiply factorial by i     #same as factorial = factorial * i\n",
    "            i += 1 #each loop add 1 to i, value for i is changed each iteration of the loop    #same as i = i + 1\n",
    "\n",
    "    print (\"The factorial of {} is {}\".format(n, factorial))"
   ]
  },
  {
   "cell_type": "code",
   "execution_count": null,
   "metadata": {},
   "outputs": [],
   "source": []
  }
 ],
 "metadata": {
  "kernelspec": {
   "display_name": "bootcamp",
   "language": "python",
   "name": "python3"
  },
  "language_info": {
   "codemirror_mode": {
    "name": "ipython",
    "version": 3
   },
   "file_extension": ".py",
   "mimetype": "text/x-python",
   "name": "python",
   "nbconvert_exporter": "python",
   "pygments_lexer": "ipython3",
   "version": "3.10.16"
  }
 },
 "nbformat": 4,
 "nbformat_minor": 2
}
