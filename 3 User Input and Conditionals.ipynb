{
 "cells": [
  {
   "cell_type": "markdown",
   "metadata": {},
   "source": [
    "*Challenge question* <br> <br>\n",
    "\n",
    "Will the following code work?"
   ]
  },
  {
   "cell_type": "code",
   "execution_count": 74,
   "metadata": {},
   "outputs": [
    {
     "name": "stdout",
     "output_type": "stream",
     "text": [
      "Football is my favorite sport\n"
     ]
    }
   ],
   "source": [
    "# broken code (commented out)\n",
    "\n",
    "#print('{} is my favorite sport'.format(element))\n",
    "#element = 'Football'\n",
    "\n",
    "\n",
    "element = 'Football'    # moved the line defining 'element' to before the function it's used in\n",
    "print('{} is my favorite sport'.format(element))"
   ]
  },
  {
   "cell_type": "markdown",
   "metadata": {},
   "source": [
    "<br> **User Input and Conditionals**"
   ]
  },
  {
   "cell_type": "markdown",
   "metadata": {},
   "source": [
    "*User Input & Type Converting*"
   ]
  },
  {
   "cell_type": "code",
   "execution_count": null,
   "metadata": {},
   "outputs": [
    {
     "name": "stdout",
     "output_type": "stream",
     "text": [
      "Caitlin\n"
     ]
    }
   ],
   "source": [
    "# accepting and outputting user input\n",
    "print(input(\"What is your name?\"))      # cell outputs whatever you type in the box\n",
    "                                        # information entered is taken in as string"
   ]
  },
  {
   "cell_type": "code",
   "execution_count": 7,
   "metadata": {},
   "outputs": [
    {
     "name": "stdout",
     "output_type": "stream",
     "text": [
      "Hello Caitlin!\n"
     ]
    }
   ],
   "source": [
    "# storing user inputs\n",
    "ans = input(\"What is your name?\")\n",
    "print(f\"Hello {ans}!\")"
   ]
  },
  {
   "cell_type": "code",
   "execution_count": 8,
   "metadata": {},
   "outputs": [
    {
     "name": "stdout",
     "output_type": "stream",
     "text": [
      "<class 'int'>\n"
     ]
    }
   ],
   "source": [
    "# how to check the data type of a variable\n",
    "num = 5\n",
    "print(type(num))"
   ]
  },
  {
   "cell_type": "code",
   "execution_count": 10,
   "metadata": {},
   "outputs": [
    {
     "name": "stdout",
     "output_type": "stream",
     "text": [
      "<class 'str'>\n",
      "<class 'int'>\n"
     ]
    }
   ],
   "source": [
    "# converting a varaible from one data type to another\n",
    "num = \"9\"\n",
    "print(type(num))\n",
    "\n",
    "num = int(num)      # re-declaring num to store an integer\n",
    "print(type(num))    # checking type to make sure conversion worked"
   ]
  },
  {
   "cell_type": "code",
   "execution_count": 14,
   "metadata": {},
   "outputs": [
    {
     "name": "stdout",
     "output_type": "stream",
     "text": [
      "<class 'bool'>\n",
      "<class 'int'>\n",
      "1\n",
      "<class 'bool'>\n",
      "<class 'int'>\n",
      "0\n"
     ]
    }
   ],
   "source": [
    "# note on boolean conversions\n",
    "a = True\n",
    "print(type(a))\n",
    "a = int(a)\n",
    "print(type(a))      # for booleans, True converts to 1\n",
    "print(a)\n",
    "\n",
    "b = False\n",
    "print(type(b))\n",
    "b = int(b)\n",
    "print(type(b))      # and False converts to 0\n",
    "print(b)"
   ]
  },
  {
   "cell_type": "code",
   "execution_count": 16,
   "metadata": {},
   "outputs": [
    {
     "name": "stdout",
     "output_type": "stream",
     "text": [
      "<class 'str'>\n",
      "100 + 9 = 109\n"
     ]
    }
   ],
   "source": [
    "# working with user input to perform calculations\n",
    "ans = input(\"Type a number to add: \")\n",
    "print(type(ans))        # default type is string, must convert (won't work for \"nine\")\n",
    "result = 100 + int(ans)\n",
    "print(f\"100 + {ans} = {result}\")"
   ]
  },
  {
   "cell_type": "code",
   "execution_count": 19,
   "metadata": {},
   "outputs": [
    {
     "name": "stdout",
     "output_type": "stream",
     "text": [
      "100 + 10.0 = 110.0\n",
      "The program did not break!\n"
     ]
    }
   ],
   "source": [
    "# using the try and except blocks, use tab to indent where necessary\n",
    "try:\n",
    "    ans = float(input(\"Type a number to add: \"))    # this indented block belongs to the try statement\n",
    "    print(f\"100 + {ans} = {100 + ans}\")\n",
    "except:\n",
    "    print(\"You did not put in a valid number!\")     # if an error occurs in try, the except statement runs\n",
    "\n",
    "# without try/except, the print function won't run (get hit) if an error occurs\n",
    "print(\"The program did not break!\")"
   ]
  },
  {
   "cell_type": "markdown",
   "metadata": {},
   "source": [
    "*Exercises*"
   ]
  },
  {
   "cell_type": "code",
   "execution_count": null,
   "metadata": {},
   "outputs": [
    {
     "name": "stdout",
     "output_type": "stream",
     "text": [
      "<class 'str'>\n",
      "<class 'bool'>\n"
     ]
    }
   ],
   "source": [
    "# converting string to boolean\n",
    "e1 = \"True\"\n",
    "print(type(e1))\n",
    "e1 = bool(e1)\n",
    "print(type(e1))"
   ]
  },
  {
   "cell_type": "code",
   "execution_count": 26,
   "metadata": {},
   "outputs": [
    {
     "name": "stdout",
     "output_type": "stream",
     "text": [
      "5.73 + 5.93 = 11.66\n"
     ]
    }
   ],
   "source": [
    "# sum of inputs\n",
    "try:\n",
    "    i1 = float(input(\"Type a number\"))\n",
    "    i2 = float(input(\"Type another number, to add\"))\n",
    "    print(f\"{i1} + {i2} = {i1+i2}\")\n",
    "except:\n",
    "    print(\"Invalid input, please type a number.\")"
   ]
  },
  {
   "cell_type": "code",
   "execution_count": 27,
   "metadata": {},
   "outputs": [
    {
     "name": "stdout",
     "output_type": "stream",
     "text": [
      "2020 Blue Mazda CX3\n"
     ]
    }
   ],
   "source": [
    "# car information\n",
    "try:\n",
    "    year = int(input(\"Manufactur year:\"))\n",
    "    make = input(\"Make of car:\")\n",
    "    model = input(\"Car model:\")\n",
    "    colour = input(\"Car colour:\")\n",
    "    print(f\"{year} {colour} {make} {model}\")\n",
    "except:\n",
    "    print(\"Invalid input\")"
   ]
  },
  {
   "cell_type": "markdown",
   "metadata": {},
   "source": [
    "*If Statements*"
   ]
  },
  {
   "cell_type": "markdown",
   "metadata": {},
   "source": [
    "Comparison operators: <br>\n",
    "> == is Equality (x == y, if x is equal to y) <br>\n",
    "> != is Inequality (x != y, if x does not equal y) <br>\n",
    "> '>' OR '>=' is Greater than OR Greater or equal (x > y, if x is greater than y) <br>\n",
    "> '<' OR '<=' is Less than OR Less or equal (x < y, if x is less than y) <br>"
   ]
  },
  {
   "cell_type": "code",
   "execution_count": 29,
   "metadata": {},
   "outputs": [
    {
     "name": "stdout",
     "output_type": "stream",
     "text": [
      "x is less than y\n"
     ]
    }
   ],
   "source": [
    "# using an if statement to only run code if the condition is met\n",
    "x, y = 5, 10\n",
    "if x < y:\n",
    "    print(\"x is less than y\")       # if the statement was False (e.g. x=15), the print statement won't run"
   ]
  },
  {
   "cell_type": "code",
   "execution_count": 33,
   "metadata": {},
   "outputs": [
    {
     "name": "stdout",
     "output_type": "stream",
     "text": [
      "You got it right!\n"
     ]
    }
   ],
   "source": [
    "# checking user input\n",
    "ans = int(input(\"What is 5 + 5?\"))\n",
    "if ans == 10:\n",
    "    print(\"You got it right!\")      # wrong number input yields no output, non-number input yields error"
   ]
  },
  {
   "cell_type": "markdown",
   "metadata": {},
   "source": [
    "Logical operators: <br>\n",
    "> and <br>\n",
    "> or <br>\n",
    "> not"
   ]
  },
  {
   "cell_type": "code",
   "execution_count": null,
   "metadata": {},
   "outputs": [
    {
     "name": "stdout",
     "output_type": "stream",
     "text": [
      "Both statements were true\n"
     ]
    }
   ],
   "source": [
    "# using the keyword 'and' in an 'if statement'\n",
    "x, y, z = 5, 10, 5\n",
    "if x < y and x == z:    # if either condition (left or right of ==) is False, then code block won't run\n",
    "    print(\"Both statements were true\")"
   ]
  },
  {
   "cell_type": "code",
   "execution_count": null,
   "metadata": {},
   "outputs": [
    {
     "name": "stdout",
     "output_type": "stream",
     "text": [
      "One or both statements were true\n"
     ]
    }
   ],
   "source": [
    "# using the keyword 'or' in an 'if statement'\n",
    "x, y, z = 5, 10, 5\n",
    "if x < y or x != z:     # even though one side is False, the code block runs\n",
    "    print(\"One or both statements were true\")"
   ]
  },
  {
   "cell_type": "code",
   "execution_count": null,
   "metadata": {},
   "outputs": [
    {
     "name": "stdout",
     "output_type": "stream",
     "text": [
      "Flag is False\n"
     ]
    }
   ],
   "source": [
    "# using the keyword 'not' within an 'if statement'\n",
    "flag = False\n",
    "if not flag:    # same as saying if not True, since is flag is False (therefore not True) code block runs\n",
    "    print(\"Flag is False\")"
   ]
  },
  {
   "cell_type": "markdown",
   "metadata": {},
   "source": [
    "Membership operators: <br>\n",
    "> in <br>\n",
    "> not in <br>"
   ]
  },
  {
   "cell_type": "code",
   "execution_count": 41,
   "metadata": {},
   "outputs": [
    {
     "name": "stdout",
     "output_type": "stream",
     "text": [
      "Baseball contains the letter b\n"
     ]
    }
   ],
   "source": [
    "# using the keyword 'in' within an 'if statement'\n",
    "word = \"Baseball\"\n",
    "if \"b\" in word:     #this is case-sensitive\n",
    "    print(f\"{word} contains the letter b\")"
   ]
  },
  {
   "cell_type": "code",
   "execution_count": 42,
   "metadata": {},
   "outputs": [
    {
     "name": "stdout",
     "output_type": "stream",
     "text": [
      "Baseball does not contain the letter x\n"
     ]
    }
   ],
   "source": [
    "# using the keyword 'not in' within an 'if statement'\n",
    "word = \"Baseball\"\n",
    "if \"x\" not in word:\n",
    "    print(f\"{word} does not contain the letter x\")"
   ]
  },
  {
   "cell_type": "markdown",
   "metadata": {},
   "source": [
    "*Exercises*"
   ]
  },
  {
   "cell_type": "code",
   "execution_count": null,
   "metadata": {},
   "outputs": [
    {
     "name": "stdout",
     "output_type": "stream",
     "text": [
      "Test contains an 'es'\n"
     ]
    }
   ],
   "source": [
    "# checking inclusion 1\n",
    "word1 = input(\"Type a word\")\n",
    "if \"es\" in word1:\n",
    "    print(f\"{word1} contains an 'es'\")      # not sure how to print \"es\" with double quotations"
   ]
  },
  {
   "cell_type": "code",
   "execution_count": 52,
   "metadata": {},
   "outputs": [
    {
     "name": "stdout",
     "output_type": "stream",
     "text": [
      "Typing ends in 'ing'\n",
      "Typing ends in 'ing'\n"
     ]
    }
   ],
   "source": [
    "# checking inclusion 2\n",
    "word2 = input(\"Type a word\")\n",
    "if \"ing\" in word2[-3:]:         # use slicing to isolate the last 3 letters of the word\n",
    "    print(f\"{word2} ends in 'ing'\")\n",
    "    print(f\"{word2} ends in '{word2[-3:]}'\")"
   ]
  },
  {
   "cell_type": "code",
   "execution_count": 54,
   "metadata": {},
   "outputs": [
    {
     "name": "stdout",
     "output_type": "stream",
     "text": [
      "test and TEST are the same word\n"
     ]
    }
   ],
   "source": [
    "# checking equality\n",
    "word3 = input(\"Type a word\")\n",
    "word4 = input(\"Type another word\")\n",
    "if word3.lower() == word4.lower():      # use .lower to convert both to lowercase and make case insensitive\n",
    "    print(f\"{word3} and {word4} are the same word\")"
   ]
  },
  {
   "cell_type": "code",
   "execution_count": null,
   "metadata": {},
   "outputs": [
    {
     "name": "stdout",
     "output_type": "stream",
     "text": [
      "3.0 squared = 9.0\n",
      "3.0 squared = 9.0\n"
     ]
    }
   ],
   "source": [
    "# returning exponents\n",
    "num1 = float(input(\"Type a number\"))\n",
    "if num1 < 10:\n",
    "    print(f\"{num1} squared = {num1**2}\")        # calculation notation is base ** exponent\n",
    "    print(f\"{num1} squared = {pow(num1, 2)}\")   # alternative notation is pow(base, exponent, modulus)"
   ]
  },
  {
   "cell_type": "markdown",
   "metadata": {},
   "source": [
    "*Elif Statements*"
   ]
  },
  {
   "cell_type": "markdown",
   "metadata": {},
   "source": [
    "Elif statements must be associated with an if statement. If the if statement is false, it continues with the elif statement."
   ]
  },
  {
   "cell_type": "code",
   "execution_count": 58,
   "metadata": {},
   "outputs": [
    {
     "name": "stdout",
     "output_type": "stream",
     "text": [
      "x is less than y\n"
     ]
    }
   ],
   "source": [
    "# using the elif conditional statement\n",
    "x, y = 5, 10\n",
    "if x > y:\n",
    "    print(\"x is greater than y\")    # the if statement is False, so it runs the below elif statement\n",
    "elif x < y:\n",
    "    print(\"x is less than y\")"
   ]
  },
  {
   "cell_type": "code",
   "execution_count": 66,
   "metadata": {},
   "outputs": [
    {
     "name": "stdout",
     "output_type": "stream",
     "text": [
      "x + 5 is equal to y\n"
     ]
    }
   ],
   "source": [
    "# checking more than one elif conditional statement\n",
    "x, y = 5, 10\n",
    "if x > y:\n",
    "    print(\"x is greater than y\")\n",
    "elif (x + 10) < y:      # checking if 15 is less than 10\n",
    "    print(\"x + 10 is less than y\")\n",
    "elif (x + 5) == y:      # checking if 10 is equal to 10\n",
    "    print(\"x + 5 is equal to y\")"
   ]
  },
  {
   "cell_type": "code",
   "execution_count": 61,
   "metadata": {},
   "outputs": [
    {
     "name": "stdout",
     "output_type": "stream",
     "text": [
      "x is equal to z\n"
     ]
    }
   ],
   "source": [
    "# writing multiple conditionals within each other - multiple block levels\n",
    "x, y, z = 5, 10, 5\n",
    "if x > y:\n",
    "    print(\"x is greater than y\")\n",
    "elif x <= y:        # if this returns True, the indented statements will run\n",
    "    if x == z:\n",
    "        print(\"x is equal to z\")        # the if statement is True, so this will be the output\n",
    "    elif x != z:\n",
    "        print(\"x is not equal to z\")    # this won't get hit"
   ]
  },
  {
   "cell_type": "code",
   "execution_count": null,
   "metadata": {},
   "outputs": [
    {
     "name": "stdout",
     "output_type": "stream",
     "text": [
      "x is less than y\n",
      "x is equal to z\n"
     ]
    }
   ],
   "source": [
    "# testing output of two if statements in a row that are both true\n",
    "x, y, z = 5, 10, 5\n",
    "if x < y:\n",
    "    print(\"x is less than y\")\n",
    "if x == z:\n",
    "    print(\"x is equal to z\")    # both get hit even when they're both true, because they're independent"
   ]
  },
  {
   "cell_type": "code",
   "execution_count": 65,
   "metadata": {},
   "outputs": [
    {
     "name": "stdout",
     "output_type": "stream",
     "text": [
      "x is less than y\n"
     ]
    }
   ],
   "source": [
    "# testing output of an if and elif statement that are both true\n",
    "x, y, z = 5, 10, 5\n",
    "if x < y:       # True\n",
    "    print(\"x is less than y\")\n",
    "elif x == z:    # True\n",
    "    print(\"x is equal to z\")    # doesn't get hit because the associated if statement was already True"
   ]
  },
  {
   "cell_type": "markdown",
   "metadata": {},
   "source": [
    "*Exercises*"
   ]
  },
  {
   "cell_type": "code",
   "execution_count": 71,
   "metadata": {},
   "outputs": [
    {
     "name": "stdout",
     "output_type": "stream",
     "text": [
      "100 is equal to 100\n"
     ]
    }
   ],
   "source": [
    "# higher or lower\n",
    "num2 = int(input(\"Type in a whole number\"))   # conversion to integer included in this definition\n",
    "if num2 < 100:\n",
    "    print(f\"{num2} is less than 100\")\n",
    "elif num2 > 100:\n",
    "    print(f\"{num2} is greater than 100\")\n",
    "elif num2 == 100:\n",
    "    print(f\"{num2} is equal to 100\")"
   ]
  },
  {
   "cell_type": "code",
   "execution_count": null,
   "metadata": {},
   "outputs": [
    {
     "name": "stdout",
     "output_type": "stream",
     "text": [
      "lower\n"
     ]
    }
   ],
   "source": [
    "# fix this code such that it outputs 'lower' (commented out so it doesn't run)\n",
    "\n",
    "#x, y = 5, 10\n",
    "#if x > y:\n",
    "      #print(\"greater\")\n",
    "#try x < y:\n",
    "      #print(\"lower\")\n",
    "\n",
    "x, y = 5, 10\n",
    "if x > y:\n",
    "    print(\"greater\")    # removed extra indentation\n",
    "elif x < y:             # change to elif\n",
    "    print(\"lower\")      # removed extra indentation\n"
   ]
  },
  {
   "cell_type": "markdown",
   "metadata": {},
   "source": [
    "*Else Statements*"
   ]
  },
  {
   "cell_type": "code",
   "execution_count": null,
   "metadata": {},
   "outputs": [
    {
     "name": "stdout",
     "output_type": "stream",
     "text": [
      "Hello John!\n"
     ]
    }
   ],
   "source": [
    "# using an else statement\n",
    "name = \"John\"\n",
    "if name == \"Jacob\":\n",
    "    print(\"Hello Jacob!\")\n",
    "else:                           # an elif statement won't work here, because it needs conditionals\n",
    "    print(f\"Hello {name}!\")"
   ]
  },
  {
   "cell_type": "code",
   "execution_count": 81,
   "metadata": {},
   "outputs": [
    {
     "name": "stdout",
     "output_type": "stream",
     "text": [
      "Name starts with a J\n"
     ]
    }
   ],
   "source": [
    "# writing a full conditional statement with if, elif, else\n",
    "name = \"John\"\n",
    "if name[0] == \"A\":\n",
    "    print(\"Name starts with an A\")\n",
    "elif name[0] == \"B\":\n",
    "    print(\"Name starts with a B\")\n",
    "elif name[0] == \"J\":\n",
    "    print(\"Name starts with a J\")\n",
    "else:           # covers all other possibilities, and runs if all if/elif statements return False\n",
    "    print(f\"Name starts with a {name[0]}\")\n",
    "\n",
    "# we could also add a .title function to overcome case sensitivity"
   ]
  },
  {
   "cell_type": "markdown",
   "metadata": {},
   "source": [
    "*Exercises*"
   ]
  },
  {
   "cell_type": "code",
   "execution_count": 85,
   "metadata": {},
   "outputs": [
    {
     "name": "stdout",
     "output_type": "stream",
     "text": [
      "Hello John\n",
      "Hello John\n"
     ]
    }
   ],
   "source": [
    "# fix this code such that it outputs 'Hello John' (commented out)\n",
    "\n",
    "#name = \"John\"\n",
    "#if name == \"Jack\":\n",
    "#           print(\"Hello Jack\")\n",
    "# elif:\n",
    "#          print(\"Hello John\")\n",
    "\n",
    "\n",
    "name = \"John\"\n",
    "if name == \"Jack\":\n",
    "    print(\"Hello Jack\")     # removed 2 extra indents\n",
    "elif name != \"Jack\":        # added a condition (name not equal to Jack)\n",
    "    print(\"Hello John\")     # removed extra indents\n",
    "\n",
    "# alternative solution\n",
    "name = \"John\"\n",
    "if name == \"Jack\":\n",
    "    print(\"Hello Jack\")\n",
    "else:        # changed elif to else, which doesn't require conditionals\n",
    "    print(\"Hello John\")"
   ]
  },
  {
   "cell_type": "code",
   "execution_count": null,
   "metadata": {},
   "outputs": [
    {
     "name": "stdout",
     "output_type": "stream",
     "text": [
      "Good morning\n"
     ]
    }
   ],
   "source": [
    "# time based greeting\n",
    "try:\n",
    "    time = int(input(\"Please input the time, written as military or 24-hour time, without a colon or AM/PM:\"))\n",
    "    if time < 1200:\n",
    "        print(\"Good morning\")\n",
    "    elif 1200 < time < 1700:\n",
    "        print(\"Good afternoon\")\n",
    "    elif time >= 1700:\n",
    "        print(\"Good evening\")\n",
    "except:\n",
    "    print(\"Invalid time input. Please input as military or 24-hour time, without a colon or AM/PM.\")"
   ]
  },
  {
   "cell_type": "code",
   "execution_count": null,
   "metadata": {},
   "outputs": [
    {
     "name": "stdout",
     "output_type": "stream",
     "text": [
      "Correct length\n",
      "Valid hours\n",
      "Valid minutes\n",
      "Good afternoon\n"
     ]
    }
   ],
   "source": [
    "# Time-based greeting (ADVANCED)\n",
    "\n",
    "# first check time input is valid (integer, 4 digits, first 2 numbers 00-23, second 2 numbers 00-59)\n",
    "\n",
    "# define variables and check for integer\n",
    "try:    # initial input must be string, so leading 0s count to length (e.g. 0830 is a valid time)\n",
    "    str_time = (input(\"Please input the time, written as military or 24-hour time, without a colon or AM/PM:\"))\n",
    "    time = int(str_time)\n",
    "    hours = int(str_time[0:2])      # slice first 2 string characters annd convert to integer (for later)\n",
    "    minutes = int(str_time[-2:])    # slice last 2 string characters annd convert to integer (for later)\n",
    "except:     # if a non-integer is input, show error message\n",
    "    print(\"Please input time as an integer. Do not use symbols or letters.\")\n",
    "\n",
    "# check for positive number\n",
    "if time >= 0:\n",
    "    # check for length\n",
    "    if len(str_time) != 4:      # use string, not integer\n",
    "        print(\"Error. Please input the time as a 4 digit number.\")\n",
    "    elif len(str_time) == 4:    # needed, otherwise code runs on invalid time input\n",
    "        print(\"Correct length\")     # print this as a check, can remove later\n",
    "\n",
    "        #check for valid time\n",
    "        if 0 <= hours <= 23:\n",
    "            print(\"Valid hours\")    # check, remove later\n",
    "            if 0 <= minutes <= 59:  # only if hours are valid, will minutes be checked\n",
    "                print(\"Valid minutes\")  # check, remove later\n",
    "\n",
    "# now we have checked for a valid time, run the greetings code\n",
    "                if time < 1200:     # don't need to be exact with these conditions, becuase a valid input is alread confirmed\n",
    "                    print(\"Good morning\")\n",
    "                elif 1200 < time < 1700:\n",
    "                    print(\"Good afternoon\")\n",
    "                elif time >= 1700:\n",
    "                    print(\"Good evening\")\n",
    "                else:\n",
    "                    print(\"IDK what went wrong :(\")\n",
    "\n",
    "            else:\n",
    "                print(\"Invalid minutes\")\n",
    "        else:\n",
    "            print(\"Invalid hours\")\n",
    "    else:\n",
    "        print(\"Other error\") # instead of swapping the elif and if statements, with this as the length error message, this adds an extra check for any unexpected errors\n",
    "else:\n",
    "    print(\"Are you a time traveller?! No negative numbers please.\")\n",
    "\n",
    "# need to add a way to make numbers beginning with 0 not give a length error (E.g. 0830)"
   ]
  },
  {
   "cell_type": "code",
   "execution_count": 140,
   "metadata": {},
   "outputs": [
    {
     "name": "stdout",
     "output_type": "stream",
     "text": [
      "800\n",
      "string 0800, integer 800, hours 8, minutes 0\n"
     ]
    }
   ],
   "source": [
    "# printing am integer where 0 is kept at the start\n",
    "\n",
    "test = int(\"0800\")\n",
    "print(test)     # output is '800'\n",
    "\n",
    "# leave as input string, then convert to integer\n",
    "try:\n",
    "    str_time = (input(\"Please input the time, written as military or 24-hour time, without a colon or AM/PM:\"))\n",
    "    time = int(str_time)    # convert\n",
    "    hours = int(str_time[0:2])\n",
    "    minutes = int(str_time[-2:])    # length no longer matters for hours/minutes, only value\n",
    "    print(f\"string {str_time}, integer {time}, hours {hours}, minutes {minutes}\")\n",
    "except:     # if a non-integer is input, show error message\n",
    "    print(\"Error\")"
   ]
  },
  {
   "cell_type": "code",
   "execution_count": 15,
   "metadata": {},
   "outputs": [
    {
     "name": "stdout",
     "output_type": "stream",
     "text": [
      "Good afternoon\n"
     ]
    }
   ],
   "source": [
    "# Time-based greeting (ADVANCED, cleaned up)\n",
    "\n",
    "# define variables and check for integer\n",
    "try:\n",
    "    str_time = (input(\"Please input the time, written as military or 24-hour time, without a colon or AM/PM:\"))\n",
    "    time = int(str_time)\n",
    "    hours = int(str_time[0:2])      # slice string, convert to integer\n",
    "    minutes = int(str_time[-2:])     \n",
    "\n",
    "    # check for positive number\n",
    "    if time >= 0:\n",
    "        # check for length\n",
    "        if len(str_time) != 4:      # use string\n",
    "            print(\"Error. Please input the time as a 4 digit number.\")\n",
    "        elif len(str_time) == 4:\n",
    "            #check for valid time\n",
    "            if 0 <= hours <= 23:\n",
    "                if 0 <= minutes <= 59:  # only if hours are valid, will minutes be checked\n",
    "                    \n",
    "    # now valid time input is confirmed, run the greetings code\n",
    "                    if time < 1200:\n",
    "                        print(\"Good morning\")\n",
    "                    elif 1200 < time < 1700:\n",
    "                        print(\"Good afternoon\")\n",
    "                    elif time >= 1700:\n",
    "                        print(\"Good evening\")\n",
    "                    else:\n",
    "                        print(\"Hello :) This is a generic greeting because I can't read time\")\n",
    "                else:\n",
    "                    print(\"Error. Please input a valid time (minutes between 00-59).\")\n",
    "            else:\n",
    "                print(\"Error. Please input a valid time (hours between 00-23).\")\n",
    "        \n",
    "\n",
    "        else:\n",
    "            print(\"Something went wrong :/\")\n",
    "    else:\n",
    "        print(\"Are you a time traveller?! No negative numbers please.\")\n",
    "\n",
    "except:\n",
    "    print(\"Please input time as an integer. Do not use symbols or letters.\")"
   ]
  },
  {
   "cell_type": "code",
   "execution_count": null,
   "metadata": {},
   "outputs": [],
   "source": []
  }
 ],
 "metadata": {
  "kernelspec": {
   "display_name": "bootcamp",
   "language": "python",
   "name": "python3"
  },
  "language_info": {
   "codemirror_mode": {
    "name": "ipython",
    "version": 3
   },
   "file_extension": ".py",
   "mimetype": "text/x-python",
   "name": "python",
   "nbconvert_exporter": "python",
   "pygments_lexer": "ipython3",
   "version": "3.10.16"
  }
 },
 "nbformat": 4,
 "nbformat_minor": 2
}
