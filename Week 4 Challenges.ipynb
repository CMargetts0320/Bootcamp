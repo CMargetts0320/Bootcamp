{
 "cells": [
  {
   "cell_type": "code",
   "execution_count": null,
   "metadata": {},
   "outputs": [
    {
     "name": "stdout",
     "output_type": "stream",
     "text": [
      "Invalid username\n"
     ]
    }
   ],
   "source": [
    "# Challenge 3 - Conditional with nested statements\n",
    "\n",
    "username = input(\"Input your username\")\n",
    "if username == \"admin\":\n",
    "    password = input(\"Input your password\")\n",
    "    if password == \"password123\":\n",
    "        print(\"Login successful\")\n",
    "    else:\n",
    "        print(\"Invalid password\")\n",
    "else:\n",
    "    print(\"Invalid username\")"
   ]
  },
  {
   "cell_type": "code",
   "execution_count": 31,
   "metadata": {},
   "outputs": [
    {
     "name": "stdout",
     "output_type": "stream",
     "text": [
      "You are an adult\n"
     ]
    }
   ],
   "source": [
    "# Challenge 1 - Simple conditional check\n",
    "\n",
    "age = int(input(\"Type your age\"))\n",
    "if age >= 18:\n",
    "    print(\"You are an adult\")\n",
    "else:\n",
    "    print(\"You are not an adult\")"
   ]
  },
  {
   "cell_type": "code",
   "execution_count": 34,
   "metadata": {},
   "outputs": [
    {
     "name": "stdout",
     "output_type": "stream",
     "text": [
      "Invalid input, please type your age as a whole number\n"
     ]
    }
   ],
   "source": [
    "#Challenge 1 - Peer review\n",
    "\n",
    "try: #try this first, if it doesn't work, follow except\n",
    "    age = int(input(\"Type your age\"))\n",
    "    if age >= 18:\n",
    "        print(\"You are an adult\")\n",
    "    else:\n",
    "     print(\"You are not an adult\")\n",
    "\n",
    "except: #Now \n",
    "    print(\"Invalid input, please type your age as a whole number\")\n",
    "\n",
    "#Try and except is coding best practise, makes sure your code doesn't break"
   ]
  },
  {
   "cell_type": "code",
   "execution_count": null,
   "metadata": {},
   "outputs": [
    {
     "name": "stdout",
     "output_type": "stream",
     "text": [
      "Grade D\n"
     ]
    }
   ],
   "source": [
    "# Challenge 2 - Conditional with multiple conditions (peer review)\n",
    "\n",
    "try:\n",
    "    grade = float(input(\"What is your grade\"))\n",
    "    if 100 >= grade >= 90: #the 100 here is needed, otherwise numbers greater than 100 can be input\n",
    "        print(\"Grade A\")\n",
    "    elif 80 <= grade < 90:\n",
    "        print(\"Grade B\")\n",
    "    elif 70 <= grade < 80:\n",
    "        print(\"Grade C\")\n",
    "    elif 60 <= grade < 70:\n",
    "        print(\"Grade D\")\n",
    "    elif 0 <= grade < 60:\n",
    "        print(\"Grade F\")\n",
    "except:\n",
    "    print(\"Invalid input. Please input a number between 0-100\") # This is your chance to explain to the user why the code didn't work, be precise"
   ]
  },
  {
   "cell_type": "code",
   "execution_count": null,
   "metadata": {},
   "outputs": [],
   "source": [
    "#Challenge 4 - peer\n",
    "\n",
    "try:\n",
    "\n",
    "#Value error is best practice, it gives you specific message if the error is because the value typed in is not compatible with the code (e.g. if letters are typed where an ineger is needed)"
   ]
  },
  {
   "cell_type": "code",
   "execution_count": null,
   "metadata": {},
   "outputs": [],
   "source": [
    "#Challenge 5 - peer\n",
    "\n",
    "user_age = input(\"Input your age\")"
   ]
  }
 ],
 "metadata": {
  "kernelspec": {
   "display_name": "base",
   "language": "python",
   "name": "python3"
  },
  "language_info": {
   "codemirror_mode": {
    "name": "ipython",
    "version": 3
   },
   "file_extension": ".py",
   "mimetype": "text/x-python",
   "name": "python",
   "nbconvert_exporter": "python",
   "pygments_lexer": "ipython3",
   "version": "3.12.7"
  }
 },
 "nbformat": 4,
 "nbformat_minor": 2
}
